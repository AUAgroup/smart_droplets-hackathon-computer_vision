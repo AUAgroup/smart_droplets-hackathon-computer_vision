{
  "cells": [
    {
      "cell_type": "code",
      "execution_count": null,
      "metadata": {
        "id": "pcI3DU3VT_2o"
      },
      "outputs": [],
      "source": [
        "from hackathon_utils.my_imports import *\n",
        "from hackathon_utils.reproducibility import set_seed\n",
        "from hackathon_utils.auxiliar import *\n",
        "from hackathon_utils.datasets import get_dataloaders\n",
        "from hackathon_utils.data_config import *\n",
        "from hackathon_utils.loggers import get_logger\n",
        "from hackathon_utils.training_config import *\n",
        "from hackathon_utils.training import *\n",
        "from hackathon_utils.presentation import segment_images\n",
        "import segmentation_models_pytorch as smp\n",
        "import timm"
      ]
    },
    {
      "cell_type": "code",
      "execution_count": null,
      "metadata": {},
      "outputs": [],
      "source": [
        "device = torch.device(\"cuda\" if torch.cuda.is_available() else \"cpu\")"
      ]
    },
    {
      "cell_type": "code",
      "execution_count": null,
      "metadata": {},
      "outputs": [],
      "source": [
        "set_seed()\n",
        "logger = get_logger()\n",
        "\n",
        "# Ensure output folder exists before opening the CSV file\n",
        "create_folder_if_not_exists(OUTPUT_FOLDER_NAME)\n",
        "\n",
        "try:\n",
        "    # --- Build data config / preprocessing from a timm backbone (feature extractor only) ---\n",
        "    logger.info(\"Loading backbone for data config...\")\n",
        "    timm_backbone_for_cfg = timm.create_model(\n",
        "        BACKBONE_NAME, num_classes=0, pretrained=True\n",
        "    )\n",
        "    data_config = timm.data.resolve_model_data_config(timm_backbone_for_cfg)\n",
        "    logger.info(f\"Data config: {data_config}\")\n",
        "\n",
        "    preprocessing_train = timm.data.create_transform(\n",
        "        **data_config, is_training=True\n",
        "    )\n",
        "    preprocessing_test = timm.data.create_transform(\n",
        "        **data_config, is_training=False\n",
        "    )\n",
        "\n",
        "    # --- Dataloaders ---\n",
        "    train_loader, val_loader = get_dataloaders(\n",
        "        data_config\n",
        "    )\n",
        "    logger.info(\n",
        "        f\"{len(train_loader.dataset)}, {len(val_loader.dataset)}\"\n",
        "    )\n",
        "\n",
        "    # --- Model build + training ---\n",
        "    try:\n",
        "        logger.info(\"Creating segmentation model...\")\n",
        "        model = smp.create_model(\n",
        "            ARCHITECTURE_NAME,\n",
        "            encoder_name=f\"tu-{BACKBONE_NAME}\",\n",
        "            in_channels=3,\n",
        "            encoder_weights=\"imagenet\",\n",
        "            classes=NUM_CLASSES,\n",
        "        ).to(device)\n",
        "\n",
        "        total_params, trainable_params = count_params(model)\n",
        "        logger.info(\n",
        "            f\"Params — total: {total_params/1e6:.3f}M | \"\n",
        "            f\"trainable: {trainable_params/1e6:.3f}M\"\n",
        "        )\n",
        "\n",
        "        (\n",
        "            best_train_loss,\n",
        "            best_train_jaccard_score,\n",
        "            best_val_loss,\n",
        "            best_val_jaccard_score,\n",
        "            best_epoch,\n",
        "            losses,\n",
        "            best_train_jaccard_per_class,\n",
        "            best_val_jaccard_per_class,\n",
        "        ) = train_model(\n",
        "            model,\n",
        "            train_loader,\n",
        "            val_loader,\n",
        "            max_lr=LEARNING_RATE,\n",
        "            weight_decay=WEIGHT_DECAY,\n",
        "        )\n",
        "\n",
        "        segment_images(\n",
        "            model,\n",
        "            input_folder=TEST_IMG_DIR,\n",
        "            output_folder=RESULTS_IMG_DIR,\n",
        "            device=device\n",
        "        )\n",
        "\n",
        "    except Exception as e:\n",
        "        logger.error(f\"Training block failed: {e}\")\n",
        "        logger.error(traceback.format_exc())\n",
        "\n",
        "except IOError as e:\n",
        "    logger.error(f\"Error writing to file '{FILENAME}': {e}\")\n",
        "except Exception as e:\n",
        "    logger.error(\"Unexpected error at top-level try/with block.\")\n",
        "    logger.error(traceback.format_exc())"
      ]
    }
  ],
  "metadata": {
    "colab": {
      "provenance": []
    },
    "kernelspec": {
      "display_name": "Python 3",
      "name": "python3"
    },
    "language_info": {
      "name": "python"
    }
  },
  "nbformat": 4,
  "nbformat_minor": 0
}
